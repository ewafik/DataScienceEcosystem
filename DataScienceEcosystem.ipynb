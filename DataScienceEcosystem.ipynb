{
 "cells": [
  {
   "cell_type": "markdown",
   "id": "8c099ab4-2ec1-4a19-8b3e-75293ae90141",
   "metadata": {},
   "source": [
    "# Data Science Tools and Ecosystem\n"
   ]
  },
  {
   "cell_type": "markdown",
   "id": "6d318190-a3f6-46df-9a91-d1608de54736",
   "metadata": {},
   "source": [
    "# In this notebook, Data Science Tools and Ecosystem are summarized.\n"
   ]
  },
  {
   "cell_type": "markdown",
   "id": "0fe04f2a-f908-47a3-b03b-0d8ed12e3dd5",
   "metadata": {
    "tags": []
   },
   "source": [
    "__Objectives:__\n",
    "- Show Data Science tool \n",
    "- Show Math operation \n",
    "- Show Some of Libraries in Data Science"
   ]
  },
  {
   "cell_type": "markdown",
   "id": "2d10cc92-b8ff-41af-96f3-74ca221cdd58",
   "metadata": {},
   "source": [
    "# Some of the popular languages that Data Scientists use are:\n",
    "1. Python\n",
    "2. R\n",
    "3. Sala"
   ]
  },
  {
   "cell_type": "markdown",
   "id": "8facb0c9-c919-427e-a8dd-4b9909a246bb",
   "metadata": {
    "tags": []
   },
   "source": [
    "# Some of the commonly used libraries used by Data Scientists include:\n",
    "1. Numpy\n",
    "2. Pandas\n",
    "3. Matlab"
   ]
  },
  {
   "cell_type": "markdown",
   "id": "e74d6fbf-6209-4c10-9c08-52e75c80feec",
   "metadata": {
    "tags": []
   },
   "source": [
    "|Data Science Tools| \n",
    "| --- |\n",
    "| Hadoop |\n",
    "| Spark |\n",
    "| Jupyter |"
   ]
  },
  {
   "cell_type": "markdown",
   "id": "9f5c422f-2670-4272-8893-b5d3c1c70e55",
   "metadata": {
    "tags": []
   },
   "source": [
    "### Below are a few examples of evaluating arithmetic expressions in Python."
   ]
  },
  {
   "cell_type": "code",
   "execution_count": 5,
   "id": "091faac5-ab19-414e-9720-ebafe3122ee6",
   "metadata": {
    "tags": []
   },
   "outputs": [
    {
     "data": {
      "text/plain": [
       "17"
      ]
     },
     "execution_count": 5,
     "metadata": {},
     "output_type": "execute_result"
    }
   ],
   "source": [
    "(3*4)+5\n",
    "#This a simple arithmetic expression to mutiply then add integers"
   ]
  },
  {
   "cell_type": "code",
   "execution_count": 10,
   "id": "9c29c0b6-3f3e-4293-95df-d140c5668a76",
   "metadata": {
    "tags": []
   },
   "outputs": [
    {
     "name": "stdout",
     "output_type": "stream",
     "text": [
      "3.3333333333333335\n"
     ]
    }
   ],
   "source": [
    "Min = 200\n",
    "Hours = 200/60\n",
    "print(Hours)\n",
    "#This will convert 200 minutes to hours by diving by 60"
   ]
  },
  {
   "cell_type": "markdown",
   "id": "0ad6cc90-f82c-430d-92e9-4799505faa9c",
   "metadata": {},
   "source": [
    "## Author \n",
    "Ehab Mohamed Wafik"
   ]
  },
  {
   "cell_type": "code",
   "execution_count": null,
   "id": "0642d032-1951-4015-8a79-5f8aa25a63e4",
   "metadata": {},
   "outputs": [],
   "source": []
  }
 ],
 "metadata": {
  "kernelspec": {
   "display_name": "Python",
   "language": "python",
   "name": "conda-env-python-py"
  },
  "language_info": {
   "codemirror_mode": {
    "name": "ipython",
    "version": 3
   },
   "file_extension": ".py",
   "mimetype": "text/x-python",
   "name": "python",
   "nbconvert_exporter": "python",
   "pygments_lexer": "ipython3",
   "version": "3.7.12"
  }
 },
 "nbformat": 4,
 "nbformat_minor": 5
}
